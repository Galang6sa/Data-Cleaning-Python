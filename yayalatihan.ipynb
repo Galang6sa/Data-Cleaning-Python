{
 "cells": [
  {
   "cell_type": "code",
   "execution_count": 47,
   "id": "2479374c-6261-4563-a227-5b53fd7b6625",
   "metadata": {},
   "outputs": [],
   "source": [
    "import pandas as pd\n",
    "import numpy as np"
   ]
  },
  {
   "cell_type": "code",
   "execution_count": 48,
   "id": "63d8f5ff-b2d4-430a-913f-b3d1c6222a40",
   "metadata": {},
   "outputs": [],
   "source": [
    "data = pd.DataFrame({\n",
    "    'Nama': ['budi','budi', 'putra', 'nedy', 'David', 'rico'],\n",
    "    'umur': [25,25, 30, np.nan, 28, 22],\n",
    "    'gaji': [50000,50000, 60000, 55000, 45000, 70000],\n",
    "    'negara': ['ID','ID', 'UK', 'ID', 'USA', 'UK']\n",
    "})"
   ]
  },
  {
   "cell_type": "code",
   "execution_count": 49,
   "id": "ead23642-fad8-4d3b-826f-e89bc137eeb9",
   "metadata": {},
   "outputs": [
    {
     "data": {
      "text/html": [
       "<div>\n",
       "<style scoped>\n",
       "    .dataframe tbody tr th:only-of-type {\n",
       "        vertical-align: middle;\n",
       "    }\n",
       "\n",
       "    .dataframe tbody tr th {\n",
       "        vertical-align: top;\n",
       "    }\n",
       "\n",
       "    .dataframe thead th {\n",
       "        text-align: right;\n",
       "    }\n",
       "</style>\n",
       "<table border=\"1\" class=\"dataframe\">\n",
       "  <thead>\n",
       "    <tr style=\"text-align: right;\">\n",
       "      <th></th>\n",
       "      <th>Nama</th>\n",
       "      <th>umur</th>\n",
       "      <th>gaji</th>\n",
       "      <th>negara</th>\n",
       "    </tr>\n",
       "  </thead>\n",
       "  <tbody>\n",
       "    <tr>\n",
       "      <th>0</th>\n",
       "      <td>budi</td>\n",
       "      <td>25.0</td>\n",
       "      <td>50000</td>\n",
       "      <td>ID</td>\n",
       "    </tr>\n",
       "    <tr>\n",
       "      <th>1</th>\n",
       "      <td>budi</td>\n",
       "      <td>25.0</td>\n",
       "      <td>50000</td>\n",
       "      <td>ID</td>\n",
       "    </tr>\n",
       "    <tr>\n",
       "      <th>2</th>\n",
       "      <td>putra</td>\n",
       "      <td>30.0</td>\n",
       "      <td>60000</td>\n",
       "      <td>UK</td>\n",
       "    </tr>\n",
       "    <tr>\n",
       "      <th>3</th>\n",
       "      <td>nedy</td>\n",
       "      <td>NaN</td>\n",
       "      <td>55000</td>\n",
       "      <td>ID</td>\n",
       "    </tr>\n",
       "    <tr>\n",
       "      <th>4</th>\n",
       "      <td>David</td>\n",
       "      <td>28.0</td>\n",
       "      <td>45000</td>\n",
       "      <td>USA</td>\n",
       "    </tr>\n",
       "    <tr>\n",
       "      <th>5</th>\n",
       "      <td>rico</td>\n",
       "      <td>22.0</td>\n",
       "      <td>70000</td>\n",
       "      <td>UK</td>\n",
       "    </tr>\n",
       "  </tbody>\n",
       "</table>\n",
       "</div>"
      ],
      "text/plain": [
       "    Nama  umur   gaji negara\n",
       "0   budi  25.0  50000     ID\n",
       "1   budi  25.0  50000     ID\n",
       "2  putra  30.0  60000     UK\n",
       "3   nedy   NaN  55000     ID\n",
       "4  David  28.0  45000    USA\n",
       "5   rico  22.0  70000     UK"
      ]
     },
     "execution_count": 49,
     "metadata": {},
     "output_type": "execute_result"
    }
   ],
   "source": [
    "data"
   ]
  },
  {
   "cell_type": "code",
   "execution_count": 50,
   "id": "68c8fd2c-414e-4d76-988b-f8ef48c207ee",
   "metadata": {},
   "outputs": [
    {
     "data": {
      "text/plain": [
       "Index(['Nama', 'umur', 'gaji', 'negara'], dtype='object')"
      ]
     },
     "execution_count": 50,
     "metadata": {},
     "output_type": "execute_result"
    }
   ],
   "source": [
    "#menampilkan nama nama kolom\n",
    "data.columns"
   ]
  },
  {
   "cell_type": "code",
   "execution_count": 51,
   "id": "ce01a96d-1ad8-4b0d-8f84-9940d4bb885b",
   "metadata": {},
   "outputs": [
    {
     "data": {
      "text/plain": [
       "(6, 4)"
      ]
     },
     "execution_count": 51,
     "metadata": {},
     "output_type": "execute_result"
    }
   ],
   "source": [
    "#menampilkan ukuran data frame\n",
    "data.shape"
   ]
  },
  {
   "cell_type": "code",
   "execution_count": 52,
   "id": "8990b5b6-494d-4f70-991e-621f7dfcf350",
   "metadata": {},
   "outputs": [
    {
     "data": {
      "text/plain": [
       "Nama      0\n",
       "umur      1\n",
       "gaji      0\n",
       "negara    0\n",
       "dtype: int64"
      ]
     },
     "execution_count": 52,
     "metadata": {},
     "output_type": "execute_result"
    }
   ],
   "source": [
    "#cari data kosong\n",
    "data.isna().sum()"
   ]
  },
  {
   "cell_type": "code",
   "execution_count": 53,
   "id": "7cf9ff5b-8379-42a2-a3dc-b98b05bfcd01",
   "metadata": {},
   "outputs": [
    {
     "data": {
      "text/plain": [
       "Nama   umur   gaji   negara\n",
       "False  False  False  False     5\n",
       "       True   False  False     1\n",
       "Name: count, dtype: int64"
      ]
     },
     "execution_count": 53,
     "metadata": {},
     "output_type": "execute_result"
    }
   ],
   "source": [
    "#data kosong\n",
    "data.isna().value_counts()"
   ]
  },
  {
   "cell_type": "code",
   "execution_count": 54,
   "id": "04433484-3b4a-4d57-be68-b18af36c928c",
   "metadata": {},
   "outputs": [
    {
     "data": {
      "text/plain": [
       "Nama       object\n",
       "umur      float64\n",
       "gaji        int64\n",
       "negara     object\n",
       "dtype: object"
      ]
     },
     "execution_count": 54,
     "metadata": {},
     "output_type": "execute_result"
    }
   ],
   "source": [
    "data.dtypes"
   ]
  },
  {
   "cell_type": "code",
   "execution_count": 55,
   "id": "47129ffa-4d54-4dbe-b93f-76a1db8d71ce",
   "metadata": {},
   "outputs": [],
   "source": [
    "#mengisi data kosong\n",
    "data['umur'] = data['umur'].fillna(data['umur'].mean())"
   ]
  },
  {
   "cell_type": "code",
   "execution_count": 56,
   "id": "fd5e90b4-9f50-4f08-84a8-f3fe16915205",
   "metadata": {},
   "outputs": [
    {
     "data": {
      "text/html": [
       "<div>\n",
       "<style scoped>\n",
       "    .dataframe tbody tr th:only-of-type {\n",
       "        vertical-align: middle;\n",
       "    }\n",
       "\n",
       "    .dataframe tbody tr th {\n",
       "        vertical-align: top;\n",
       "    }\n",
       "\n",
       "    .dataframe thead th {\n",
       "        text-align: right;\n",
       "    }\n",
       "</style>\n",
       "<table border=\"1\" class=\"dataframe\">\n",
       "  <thead>\n",
       "    <tr style=\"text-align: right;\">\n",
       "      <th></th>\n",
       "      <th>Nama</th>\n",
       "      <th>umur</th>\n",
       "      <th>gaji</th>\n",
       "      <th>negara</th>\n",
       "    </tr>\n",
       "  </thead>\n",
       "  <tbody>\n",
       "    <tr>\n",
       "      <th>0</th>\n",
       "      <td>budi</td>\n",
       "      <td>25.0</td>\n",
       "      <td>50000</td>\n",
       "      <td>ID</td>\n",
       "    </tr>\n",
       "    <tr>\n",
       "      <th>1</th>\n",
       "      <td>budi</td>\n",
       "      <td>25.0</td>\n",
       "      <td>50000</td>\n",
       "      <td>ID</td>\n",
       "    </tr>\n",
       "    <tr>\n",
       "      <th>2</th>\n",
       "      <td>putra</td>\n",
       "      <td>30.0</td>\n",
       "      <td>60000</td>\n",
       "      <td>UK</td>\n",
       "    </tr>\n",
       "    <tr>\n",
       "      <th>3</th>\n",
       "      <td>nedy</td>\n",
       "      <td>26.0</td>\n",
       "      <td>55000</td>\n",
       "      <td>ID</td>\n",
       "    </tr>\n",
       "    <tr>\n",
       "      <th>4</th>\n",
       "      <td>David</td>\n",
       "      <td>28.0</td>\n",
       "      <td>45000</td>\n",
       "      <td>USA</td>\n",
       "    </tr>\n",
       "    <tr>\n",
       "      <th>5</th>\n",
       "      <td>rico</td>\n",
       "      <td>22.0</td>\n",
       "      <td>70000</td>\n",
       "      <td>UK</td>\n",
       "    </tr>\n",
       "  </tbody>\n",
       "</table>\n",
       "</div>"
      ],
      "text/plain": [
       "    Nama  umur   gaji negara\n",
       "0   budi  25.0  50000     ID\n",
       "1   budi  25.0  50000     ID\n",
       "2  putra  30.0  60000     UK\n",
       "3   nedy  26.0  55000     ID\n",
       "4  David  28.0  45000    USA\n",
       "5   rico  22.0  70000     UK"
      ]
     },
     "execution_count": 56,
     "metadata": {},
     "output_type": "execute_result"
    }
   ],
   "source": [
    "data"
   ]
  },
  {
   "cell_type": "code",
   "execution_count": 57,
   "id": "090f42be-a7a4-42e4-97eb-6de6c34753d8",
   "metadata": {},
   "outputs": [
    {
     "data": {
      "text/plain": [
       "False    5\n",
       "True     1\n",
       "Name: count, dtype: int64"
      ]
     },
     "execution_count": 57,
     "metadata": {},
     "output_type": "execute_result"
    }
   ],
   "source": [
    "data.duplicated().value_counts()"
   ]
  },
  {
   "cell_type": "code",
   "execution_count": 58,
   "id": "87bf1af9-80a0-4da2-862d-17acc67e7c16",
   "metadata": {},
   "outputs": [
    {
     "data": {
      "text/plain": [
       "np.int64(1)"
      ]
     },
     "execution_count": 58,
     "metadata": {},
     "output_type": "execute_result"
    }
   ],
   "source": [
    "#hitung data duplikat\n",
    "data.duplicated().sum()"
   ]
  },
  {
   "cell_type": "code",
   "execution_count": 59,
   "id": "c877eedf-2516-4253-9fb4-3b8c41c19f95",
   "metadata": {},
   "outputs": [
    {
     "data": {
      "text/html": [
       "<div>\n",
       "<style scoped>\n",
       "    .dataframe tbody tr th:only-of-type {\n",
       "        vertical-align: middle;\n",
       "    }\n",
       "\n",
       "    .dataframe tbody tr th {\n",
       "        vertical-align: top;\n",
       "    }\n",
       "\n",
       "    .dataframe thead th {\n",
       "        text-align: right;\n",
       "    }\n",
       "</style>\n",
       "<table border=\"1\" class=\"dataframe\">\n",
       "  <thead>\n",
       "    <tr style=\"text-align: right;\">\n",
       "      <th></th>\n",
       "      <th>Nama</th>\n",
       "      <th>umur</th>\n",
       "      <th>gaji</th>\n",
       "      <th>negara</th>\n",
       "    </tr>\n",
       "  </thead>\n",
       "  <tbody>\n",
       "    <tr>\n",
       "      <th>0</th>\n",
       "      <td>budi</td>\n",
       "      <td>25.0</td>\n",
       "      <td>50000</td>\n",
       "      <td>ID</td>\n",
       "    </tr>\n",
       "    <tr>\n",
       "      <th>2</th>\n",
       "      <td>putra</td>\n",
       "      <td>30.0</td>\n",
       "      <td>60000</td>\n",
       "      <td>UK</td>\n",
       "    </tr>\n",
       "    <tr>\n",
       "      <th>3</th>\n",
       "      <td>nedy</td>\n",
       "      <td>26.0</td>\n",
       "      <td>55000</td>\n",
       "      <td>ID</td>\n",
       "    </tr>\n",
       "    <tr>\n",
       "      <th>4</th>\n",
       "      <td>David</td>\n",
       "      <td>28.0</td>\n",
       "      <td>45000</td>\n",
       "      <td>USA</td>\n",
       "    </tr>\n",
       "    <tr>\n",
       "      <th>5</th>\n",
       "      <td>rico</td>\n",
       "      <td>22.0</td>\n",
       "      <td>70000</td>\n",
       "      <td>UK</td>\n",
       "    </tr>\n",
       "  </tbody>\n",
       "</table>\n",
       "</div>"
      ],
      "text/plain": [
       "    Nama  umur   gaji negara\n",
       "0   budi  25.0  50000     ID\n",
       "2  putra  30.0  60000     UK\n",
       "3   nedy  26.0  55000     ID\n",
       "4  David  28.0  45000    USA\n",
       "5   rico  22.0  70000     UK"
      ]
     },
     "execution_count": 59,
     "metadata": {},
     "output_type": "execute_result"
    }
   ],
   "source": [
    "#hapus data duplicate\n",
    "data = data.drop_duplicates()\n",
    "data"
   ]
  },
  {
   "cell_type": "code",
   "execution_count": 60,
   "id": "5f665e33-a94b-45b8-b49c-ce53782d68a6",
   "metadata": {},
   "outputs": [
    {
     "data": {
      "text/plain": [
       "(5, 4)"
      ]
     },
     "execution_count": 60,
     "metadata": {},
     "output_type": "execute_result"
    }
   ],
   "source": [
    "data.shape"
   ]
  },
  {
   "cell_type": "code",
   "execution_count": 61,
   "id": "6726e696-b5a4-48e6-911a-b0b5c74040a7",
   "metadata": {},
   "outputs": [
    {
     "data": {
      "text/html": [
       "<div>\n",
       "<style scoped>\n",
       "    .dataframe tbody tr th:only-of-type {\n",
       "        vertical-align: middle;\n",
       "    }\n",
       "\n",
       "    .dataframe tbody tr th {\n",
       "        vertical-align: top;\n",
       "    }\n",
       "\n",
       "    .dataframe thead th {\n",
       "        text-align: right;\n",
       "    }\n",
       "</style>\n",
       "<table border=\"1\" class=\"dataframe\">\n",
       "  <thead>\n",
       "    <tr style=\"text-align: right;\">\n",
       "      <th></th>\n",
       "      <th>Nama</th>\n",
       "      <th>umur</th>\n",
       "      <th>gaji</th>\n",
       "      <th>negara_ID</th>\n",
       "      <th>negara_UK</th>\n",
       "      <th>negara_USA</th>\n",
       "    </tr>\n",
       "  </thead>\n",
       "  <tbody>\n",
       "    <tr>\n",
       "      <th>0</th>\n",
       "      <td>budi</td>\n",
       "      <td>25.0</td>\n",
       "      <td>50000</td>\n",
       "      <td>1</td>\n",
       "      <td>0</td>\n",
       "      <td>0</td>\n",
       "    </tr>\n",
       "    <tr>\n",
       "      <th>2</th>\n",
       "      <td>putra</td>\n",
       "      <td>30.0</td>\n",
       "      <td>60000</td>\n",
       "      <td>0</td>\n",
       "      <td>1</td>\n",
       "      <td>0</td>\n",
       "    </tr>\n",
       "    <tr>\n",
       "      <th>3</th>\n",
       "      <td>nedy</td>\n",
       "      <td>26.0</td>\n",
       "      <td>55000</td>\n",
       "      <td>1</td>\n",
       "      <td>0</td>\n",
       "      <td>0</td>\n",
       "    </tr>\n",
       "    <tr>\n",
       "      <th>4</th>\n",
       "      <td>David</td>\n",
       "      <td>28.0</td>\n",
       "      <td>45000</td>\n",
       "      <td>0</td>\n",
       "      <td>0</td>\n",
       "      <td>1</td>\n",
       "    </tr>\n",
       "    <tr>\n",
       "      <th>5</th>\n",
       "      <td>rico</td>\n",
       "      <td>22.0</td>\n",
       "      <td>70000</td>\n",
       "      <td>0</td>\n",
       "      <td>1</td>\n",
       "      <td>0</td>\n",
       "    </tr>\n",
       "  </tbody>\n",
       "</table>\n",
       "</div>"
      ],
      "text/plain": [
       "    Nama  umur   gaji  negara_ID  negara_UK  negara_USA\n",
       "0   budi  25.0  50000          1          0           0\n",
       "2  putra  30.0  60000          0          1           0\n",
       "3   nedy  26.0  55000          1          0           0\n",
       "4  David  28.0  45000          0          0           1\n",
       "5   rico  22.0  70000          0          1           0"
      ]
     },
     "execution_count": 61,
     "metadata": {},
     "output_type": "execute_result"
    }
   ],
   "source": [
    "#ganti dtype columns negara\n",
    "convert_negara = pd.get_dummies(data['negara'], prefix='negara').astype(int)\n",
    "data = pd.concat([data, convert_negara], axis = 1)\n",
    "data.drop('negara', axis=1, inplace=True)\n",
    "data"
   ]
  },
  {
   "cell_type": "code",
   "execution_count": null,
   "id": "377d82cc-1ec4-4bc2-beff-774eb70e0dad",
   "metadata": {},
   "outputs": [],
   "source": [
    "'''\n",
    "numeric_cols = ['umur', 'gaji']\n",
    "for col in numeric_cols:\n",
    "    mean = data[col].mean()\n",
    "    std = data[col].std()\n",
    "    data[col] = (data[col] - mean) / std\n",
    "'''\n",
    "numeric_cols = ['umur', 'gaji']\n",
    "for col in numeric_cols:\n",
    "    mean = data[col].mean()\n",
    "    std = data[col].std()\n",
    "    data[col] = (data[col] - mean) / std"
   ]
  },
  {
   "cell_type": "code",
   "execution_count": 65,
   "id": "957b0c83-7666-4f4c-9490-b7a6ccdd2ce9",
   "metadata": {},
   "outputs": [
    {
     "data": {
      "text/html": [
       "<div>\n",
       "<style scoped>\n",
       "    .dataframe tbody tr th:only-of-type {\n",
       "        vertical-align: middle;\n",
       "    }\n",
       "\n",
       "    .dataframe tbody tr th {\n",
       "        vertical-align: top;\n",
       "    }\n",
       "\n",
       "    .dataframe thead th {\n",
       "        text-align: right;\n",
       "    }\n",
       "</style>\n",
       "<table border=\"1\" class=\"dataframe\">\n",
       "  <thead>\n",
       "    <tr style=\"text-align: right;\">\n",
       "      <th></th>\n",
       "      <th>Nama</th>\n",
       "      <th>umur</th>\n",
       "      <th>gaji</th>\n",
       "      <th>negara_ID</th>\n",
       "      <th>negara_UK</th>\n",
       "      <th>negara_USA</th>\n",
       "    </tr>\n",
       "  </thead>\n",
       "  <tbody>\n",
       "    <tr>\n",
       "      <th>0</th>\n",
       "      <td>budi</td>\n",
       "      <td>-0.395628</td>\n",
       "      <td>-0.623850</td>\n",
       "      <td>1</td>\n",
       "      <td>0</td>\n",
       "      <td>0</td>\n",
       "    </tr>\n",
       "    <tr>\n",
       "      <th>2</th>\n",
       "      <td>putra</td>\n",
       "      <td>1.252823</td>\n",
       "      <td>0.415900</td>\n",
       "      <td>0</td>\n",
       "      <td>1</td>\n",
       "      <td>0</td>\n",
       "    </tr>\n",
       "    <tr>\n",
       "      <th>3</th>\n",
       "      <td>nedy</td>\n",
       "      <td>-0.065938</td>\n",
       "      <td>-0.103975</td>\n",
       "      <td>1</td>\n",
       "      <td>0</td>\n",
       "      <td>0</td>\n",
       "    </tr>\n",
       "    <tr>\n",
       "      <th>4</th>\n",
       "      <td>David</td>\n",
       "      <td>0.593442</td>\n",
       "      <td>-1.143726</td>\n",
       "      <td>0</td>\n",
       "      <td>0</td>\n",
       "      <td>1</td>\n",
       "    </tr>\n",
       "    <tr>\n",
       "      <th>5</th>\n",
       "      <td>rico</td>\n",
       "      <td>-1.384699</td>\n",
       "      <td>1.455651</td>\n",
       "      <td>0</td>\n",
       "      <td>1</td>\n",
       "      <td>0</td>\n",
       "    </tr>\n",
       "  </tbody>\n",
       "</table>\n",
       "</div>"
      ],
      "text/plain": [
       "    Nama      umur      gaji  negara_ID  negara_UK  negara_USA\n",
       "0   budi -0.395628 -0.623850          1          0           0\n",
       "2  putra  1.252823  0.415900          0          1           0\n",
       "3   nedy -0.065938 -0.103975          1          0           0\n",
       "4  David  0.593442 -1.143726          0          0           1\n",
       "5   rico -1.384699  1.455651          0          1           0"
      ]
     },
     "execution_count": 65,
     "metadata": {},
     "output_type": "execute_result"
    }
   ],
   "source": [
    "data"
   ]
  },
  {
   "cell_type": "code",
   "execution_count": null,
   "id": "267b3262-0a2f-41fb-8f38-5c221d1a359b",
   "metadata": {},
   "outputs": [],
   "source": []
  }
 ],
 "metadata": {
  "kernelspec": {
   "display_name": "Python 3 (ipykernel)",
   "language": "python",
   "name": "python3"
  },
  "language_info": {
   "codemirror_mode": {
    "name": "ipython",
    "version": 3
   },
   "file_extension": ".py",
   "mimetype": "text/x-python",
   "name": "python",
   "nbconvert_exporter": "python",
   "pygments_lexer": "ipython3",
   "version": "3.13.0"
  }
 },
 "nbformat": 4,
 "nbformat_minor": 5
}
