{
 "cells": [
  {
   "cell_type": "code",
   "execution_count": 1,
   "id": "8311931f-6d65-4f36-a549-37748714dcdc",
   "metadata": {},
   "outputs": [],
   "source": [
    "import pandas as pd\n",
    "import numpy as np"
   ]
  },
  {
   "cell_type": "code",
   "execution_count": 4,
   "id": "f250a389-d068-4dde-b1b0-c50f404c5e4f",
   "metadata": {},
   "outputs": [],
   "source": [
    "data = pd.DataFrame({\n",
    "    'nama' : ['budi', 'dheva', 'putra', 'dika', 'galang', 'radit'],\n",
    "    'umur' : [20, 20, 20, 20, 20, 20],\n",
    "    'gaji' : [2000000, 500000, 7000000, 6000000, 1000000, 200000],\n",
    "    'negara' : ['ID', 'ID', 'ID', 'ID', 'ID', 'ID']})"
   ]
  },
  {
   "cell_type": "code",
   "execution_count": 5,
   "id": "610595a3-31a7-46a7-92f2-1122d4a7d492",
   "metadata": {},
   "outputs": [
    {
     "name": "stdout",
     "output_type": "stream",
     "text": [
      "     nama  umur     gaji negara\n",
      "0    budi    20  2000000     ID\n",
      "1   dheva    20   500000     ID\n",
      "2   putra    20  7000000     ID\n",
      "3    dika    20  6000000     ID\n",
      "4  galang    20  1000000     ID\n",
      "5   radit    20   200000     ID\n"
     ]
    }
   ],
   "source": [
    "print(data)"
   ]
  },
  {
   "cell_type": "code",
   "execution_count": 8,
   "id": "73694962-b1f7-4316-8654-2822f018a28a",
   "metadata": {},
   "outputs": [
    {
     "data": {
      "text/html": [
       "<div>\n",
       "<style scoped>\n",
       "    .dataframe tbody tr th:only-of-type {\n",
       "        vertical-align: middle;\n",
       "    }\n",
       "\n",
       "    .dataframe tbody tr th {\n",
       "        vertical-align: top;\n",
       "    }\n",
       "\n",
       "    .dataframe thead th {\n",
       "        text-align: right;\n",
       "    }\n",
       "</style>\n",
       "<table border=\"1\" class=\"dataframe\">\n",
       "  <thead>\n",
       "    <tr style=\"text-align: right;\">\n",
       "      <th></th>\n",
       "      <th>nama</th>\n",
       "      <th>umur</th>\n",
       "      <th>gaji</th>\n",
       "      <th>negara</th>\n",
       "    </tr>\n",
       "  </thead>\n",
       "  <tbody>\n",
       "    <tr>\n",
       "      <th>0</th>\n",
       "      <td>budi</td>\n",
       "      <td>20</td>\n",
       "      <td>2000000</td>\n",
       "      <td>ID</td>\n",
       "    </tr>\n",
       "    <tr>\n",
       "      <th>1</th>\n",
       "      <td>dheva</td>\n",
       "      <td>20</td>\n",
       "      <td>500000</td>\n",
       "      <td>ID</td>\n",
       "    </tr>\n",
       "    <tr>\n",
       "      <th>2</th>\n",
       "      <td>putra</td>\n",
       "      <td>20</td>\n",
       "      <td>7000000</td>\n",
       "      <td>ID</td>\n",
       "    </tr>\n",
       "    <tr>\n",
       "      <th>3</th>\n",
       "      <td>dika</td>\n",
       "      <td>20</td>\n",
       "      <td>6000000</td>\n",
       "      <td>ID</td>\n",
       "    </tr>\n",
       "    <tr>\n",
       "      <th>4</th>\n",
       "      <td>galang</td>\n",
       "      <td>20</td>\n",
       "      <td>1000000</td>\n",
       "      <td>ID</td>\n",
       "    </tr>\n",
       "    <tr>\n",
       "      <th>5</th>\n",
       "      <td>radit</td>\n",
       "      <td>20</td>\n",
       "      <td>200000</td>\n",
       "      <td>ID</td>\n",
       "    </tr>\n",
       "  </tbody>\n",
       "</table>\n",
       "</div>"
      ],
      "text/plain": [
       "     nama  umur     gaji negara\n",
       "0    budi    20  2000000     ID\n",
       "1   dheva    20   500000     ID\n",
       "2   putra    20  7000000     ID\n",
       "3    dika    20  6000000     ID\n",
       "4  galang    20  1000000     ID\n",
       "5   radit    20   200000     ID"
      ]
     },
     "execution_count": 8,
     "metadata": {},
     "output_type": "execute_result"
    }
   ],
   "source": [
    "data"
   ]
  },
  {
   "cell_type": "code",
   "execution_count": 11,
   "id": "8529c365-0c6f-4ab8-9460-63cb0f8c9b5f",
   "metadata": {},
   "outputs": [
    {
     "data": {
      "text/plain": [
       "Index(['nama', 'umur', 'gaji', 'negara'], dtype='object')"
      ]
     },
     "execution_count": 11,
     "metadata": {},
     "output_type": "execute_result"
    }
   ],
   "source": [
    "#menampilkan nama nama kolom\n",
    "data.columns"
   ]
  },
  {
   "cell_type": "code",
   "execution_count": 10,
   "id": "cf3345bb-82be-4b95-ab64-719a92ff5ed8",
   "metadata": {},
   "outputs": [
    {
     "data": {
      "text/plain": [
       "(6, 4)"
      ]
     },
     "execution_count": 10,
     "metadata": {},
     "output_type": "execute_result"
    }
   ],
   "source": [
    "#menampilkan ukuran data frame\n",
    "data.shape"
   ]
  },
  {
   "cell_type": "code",
   "execution_count": 12,
   "id": "db463329-108e-4219-b907-f803e3da5b5d",
   "metadata": {},
   "outputs": [
    {
     "data": {
      "text/plain": [
       "nama      0\n",
       "umur      0\n",
       "gaji      0\n",
       "negara    0\n",
       "dtype: int64"
      ]
     },
     "execution_count": 12,
     "metadata": {},
     "output_type": "execute_result"
    }
   ],
   "source": [
    "data.isnull().sum()"
   ]
  },
  {
   "cell_type": "code",
   "execution_count": 14,
   "id": "bee56dea-9fbf-4804-9c59-9c8c2b260be9",
   "metadata": {},
   "outputs": [
    {
     "data": {
      "text/plain": [
       "nama      0\n",
       "umur      0\n",
       "gaji      0\n",
       "negara    0\n",
       "dtype: int64"
      ]
     },
     "execution_count": 14,
     "metadata": {},
     "output_type": "execute_result"
    }
   ],
   "source": [
    "data.isna().sum()"
   ]
  },
  {
   "cell_type": "code",
   "execution_count": null,
   "id": "2368524e-7da4-4360-902c-87a9eee7d210",
   "metadata": {},
   "outputs": [],
   "source": [
    "#data = df.dropna().resetindex(drop=True)"
   ]
  }
 ],
 "metadata": {
  "kernelspec": {
   "display_name": "Python 3 (ipykernel)",
   "language": "python",
   "name": "python3"
  },
  "language_info": {
   "codemirror_mode": {
    "name": "ipython",
    "version": 3
   },
   "file_extension": ".py",
   "mimetype": "text/x-python",
   "name": "python",
   "nbconvert_exporter": "python",
   "pygments_lexer": "ipython3",
   "version": "3.13.0"
  }
 },
 "nbformat": 4,
 "nbformat_minor": 5
}
